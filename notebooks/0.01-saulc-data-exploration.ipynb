{
 "cells": [
  {
   "cell_type": "code",
   "execution_count": 2,
   "id": "34e5f3aa",
   "metadata": {},
   "outputs": [],
   "source": [
    "%load_ext autoreload\n",
    "%autoreload 2"
   ]
  },
  {
   "cell_type": "code",
   "execution_count": 14,
   "id": "18ea339d-b1bb-4fae-840e-eddabc697f1e",
   "metadata": {},
   "outputs": [],
   "source": [
    "import time\n",
    "\n",
    "from sklearn.model_selection import cross_val_score\n",
    "from sklearn.preprocessing import OneHotEncoder\n",
    "from sklearn.metrics import accuracy_score\n",
    "from sklearn.neighbors import KNeighborsClassifier\n",
    "from sklearn.model_selection import train_test_split\n",
    "import matplotlib.pyplot as plt\n",
    "from sklearn import metrics\n",
    "import numpy as np\n",
    "import pandas as pd\n",
    "\n",
    "from smoker_status.config import RAW_DATA_DIR"
   ]
  },
  {
   "cell_type": "code",
   "execution_count": 15,
   "id": "55a9ea9c-c005-4269-88ff-48e484d559fe",
   "metadata": {},
   "outputs": [
    {
     "name": "stdout",
     "output_type": "stream",
     "text": [
      "Column count: 24\n",
      "Index(['id', 'age', 'height(cm)', 'weight(kg)', 'waist(cm)', 'eyesight(left)',\n",
      "       'eyesight(right)', 'hearing(left)', 'hearing(right)', 'systolic',\n",
      "       'relaxation', 'fasting blood sugar', 'Cholesterol', 'triglyceride',\n",
      "       'HDL', 'LDL', 'hemoglobin', 'Urine protein', 'serum creatinine', 'AST',\n",
      "       'ALT', 'Gtp', 'dental caries', 'smoking'],\n",
      "      dtype='object')\n",
      "(159256, 24)\n",
      "Column count: 23\n",
      "Index(['id', 'age', 'height(cm)', 'weight(kg)', 'waist(cm)', 'eyesight(left)',\n",
      "       'eyesight(right)', 'hearing(left)', 'hearing(right)', 'systolic',\n",
      "       'relaxation', 'fasting blood sugar', 'Cholesterol', 'triglyceride',\n",
      "       'HDL', 'LDL', 'hemoglobin', 'Urine protein', 'serum creatinine', 'AST',\n",
      "       'ALT', 'Gtp', 'dental caries'],\n",
      "      dtype='object')\n",
      "(106171, 23)\n",
      "Trainning data\n",
      "            id  age  height(cm)  weight(kg)  waist(cm)  eyesight(left)  \\\n",
      "0            0   55         165          60       81.0             0.5   \n",
      "1            1   70         165          65       89.0             0.6   \n",
      "2            2   20         170          75       81.0             0.4   \n",
      "3            3   35         180          95      105.0             1.5   \n",
      "4            4   30         165          60       80.5             1.5   \n",
      "...        ...  ...         ...         ...        ...             ...   \n",
      "159251  159251   40         155          45       69.0             1.5   \n",
      "159252  159252   50         155          75       82.0             1.0   \n",
      "159253  159253   40         160          50       66.0             1.5   \n",
      "159254  159254   50         165          75       92.0             1.2   \n",
      "159255  159255   40         145          45       76.4             1.0   \n",
      "\n",
      "        eyesight(right)  hearing(left)  hearing(right)  systolic  ...  HDL  \\\n",
      "0                   0.6              1               1       135  ...   40   \n",
      "1                   0.7              2               2       146  ...   57   \n",
      "2                   0.5              1               1       118  ...   45   \n",
      "3                   1.2              1               1       131  ...   38   \n",
      "4                   1.0              1               1       121  ...   44   \n",
      "...                 ...            ...             ...       ...  ...  ...   \n",
      "159251              2.0              1               1       127  ...   72   \n",
      "159252              1.0              1               1       120  ...   64   \n",
      "159253              1.0              1               1       114  ...   87   \n",
      "159254              1.0              1               1       121  ...   55   \n",
      "159255              1.2              1               1       125  ...   87   \n",
      "\n",
      "        LDL  hemoglobin  Urine protein  serum creatinine  AST  ALT  Gtp  \\\n",
      "0        75        16.5              1               1.0   22   25   27   \n",
      "1       126        16.2              1               1.1   27   23   37   \n",
      "2        93        17.4              1               0.8   27   31   53   \n",
      "3       102        15.9              1               1.0   20   27   30   \n",
      "4        93        15.4              1               0.8   19   13   17   \n",
      "...     ...         ...            ...               ...  ...  ...  ...   \n",
      "159251  159        14.5              1               0.8   25   26   13   \n",
      "159252  108        14.5              1               0.6   21   20   18   \n",
      "159253   93        10.9              1               0.6   15    9   12   \n",
      "159254   80        14.4              1               1.1   22   17   37   \n",
      "159255   81        14.0              1               0.8   21   16   17   \n",
      "\n",
      "        dental caries  smoking  \n",
      "0                   0        1  \n",
      "1                   1        0  \n",
      "2                   0        1  \n",
      "3                   1        0  \n",
      "4                   0        1  \n",
      "...               ...      ...  \n",
      "159251              0        0  \n",
      "159252              0        0  \n",
      "159253              0        0  \n",
      "159254              0        1  \n",
      "159255              0        0  \n",
      "\n",
      "[159256 rows x 24 columns]\n",
      "Testing data\n",
      "            id  age  height(cm)  weight(kg)  waist(cm)  eyesight(left)  \\\n",
      "0       159256   40         165          70       84.0             1.2   \n",
      "1       159257   80         160          60       93.0             1.0   \n",
      "2       159258   60         170          70       86.5             0.6   \n",
      "3       159259   40         160          50       67.0             0.3   \n",
      "4       159260   40         170          75       89.4             1.0   \n",
      "...        ...  ...         ...         ...        ...             ...   \n",
      "106166  265422   40         165          60       78.0             0.8   \n",
      "106167  265423   40         170          85       95.0             1.2   \n",
      "106168  265424   35         170          85       89.0             1.2   \n",
      "106169  265425   40         160          60       67.0             0.7   \n",
      "106170  265426   50         150          50       80.0             0.9   \n",
      "\n",
      "        eyesight(right)  hearing(left)  hearing(right)  systolic  ...  \\\n",
      "0                   1.2              1               1       130  ...   \n",
      "1                   1.0              2               2       144  ...   \n",
      "2                   0.7              1               1       117  ...   \n",
      "3                   0.4              1               1       116  ...   \n",
      "4                   0.9              1               1       132  ...   \n",
      "...                 ...            ...             ...       ...  ...   \n",
      "106166              0.9              1               1       112  ...   \n",
      "106167              1.2              1               1       130  ...   \n",
      "106168              1.2              1               1       131  ...   \n",
      "106169              0.8              1               1       120  ...   \n",
      "106170              1.0              1               1       115  ...   \n",
      "\n",
      "        triglyceride  HDL  LDL  hemoglobin  Urine protein  serum creatinine  \\\n",
      "0                186   49  115        14.2              1               0.9   \n",
      "1                158   35  104        13.0              1               1.1   \n",
      "2                173   39   88        15.4              1               1.4   \n",
      "3                 47   75  128        14.5              1               0.6   \n",
      "4                100   39  123        16.5              1               1.0   \n",
      "...              ...  ...  ...         ...            ...               ...   \n",
      "106166            82   59  149        16.4              1               1.1   \n",
      "106167           186   44  100        16.0              2               1.0   \n",
      "106168            76   53  142        15.9              1               0.8   \n",
      "106169            81   55  103        13.9              1               0.6   \n",
      "106170            96   48  144        13.0              1               0.6   \n",
      "\n",
      "        AST  ALT  Gtp  dental caries  \n",
      "0        19   25   32              0  \n",
      "1        20   12   24              0  \n",
      "2        38   60   36              0  \n",
      "3        25   18   10              1  \n",
      "4        30   39   27              1  \n",
      "...     ...  ...  ...            ...  \n",
      "106166   24   31   28              0  \n",
      "106167   25   31   38              0  \n",
      "106168   33   32   24              1  \n",
      "106169   42   36   32              0  \n",
      "106170   18   11   17              1  \n",
      "\n",
      "[106171 rows x 23 columns]\n"
     ]
    }
   ],
   "source": [
    "df_train = pd.read_csv(RAW_DATA_DIR / 'train.csv')\n",
    "df_test = pd.read_csv(RAW_DATA_DIR / 'test.csv')\n",
    "\n",
    "print('Column count:', len(df_train.columns))\n",
    "print(df_train.columns)\n",
    "print(df_train.shape)\n",
    "\n",
    "print('Column count:', len(df_test.columns))\n",
    "print(df_test.columns)\n",
    "print(df_test.shape)\n",
    "\n",
    "print('Trainning data')\n",
    "print(df_train)\n",
    "print('Testing data')\n",
    "print(df_test)"
   ]
  },
  {
   "cell_type": "code",
   "execution_count": null,
   "id": "3426a2c8-e413-4415-b963-632534bf6e5f",
   "metadata": {},
   "outputs": [],
   "source": []
  },
  {
   "cell_type": "code",
   "execution_count": 16,
   "id": "f1c48f9e-ec73-4ebc-beda-a70aa5b8543c",
   "metadata": {},
   "outputs": [
    {
     "name": "stdout",
     "output_type": "stream",
     "text": [
      "Index(['age', 'height(cm)', 'weight(kg)', 'waist(cm)', 'eyesight(left)',\n",
      "       'eyesight(right)', 'hearing(left)', 'hearing(right)', 'systolic',\n",
      "       'relaxation', 'fasting blood sugar', 'Cholesterol', 'triglyceride',\n",
      "       'HDL', 'LDL', 'hemoglobin', 'Urine protein', 'serum creatinine', 'AST',\n",
      "       'ALT', 'Gtp', 'dental caries'],\n",
      "      dtype='object')\n"
     ]
    }
   ],
   "source": [
    "features = df_train.columns[1 : len(df_train.columns) - 1]\n",
    "print(features)\n",
    "\n",
    "X = df_train[features]\n",
    "y = df_train['smoking']\n",
    "\n",
    "X_train, X_test, y_train, y_test = train_test_split(\n",
    "    X, y, test_size=0.4, random_state=10\n",
    ")"
   ]
  },
  {
   "cell_type": "markdown",
   "id": "5061141e-ca13-4979-98fa-0ff49e920248",
   "metadata": {},
   "source": [
    "<h2><b>This section will take a few seconds per k value to run!!</b></h2>"
   ]
  },
  {
   "cell_type": "code",
   "execution_count": 17,
   "id": "9a37d7fa-45c3-4255-813c-f9f74f6c715d",
   "metadata": {},
   "outputs": [],
   "source": [
    "def findBestK(kvalues):\n",
    "    r = []\n",
    "    for k in kvalues:\n",
    "        start_time = time.perf_counter()\n",
    "        knn = KNeighborsClassifier(n_neighbors=k, weights='uniform')\n",
    "        knn.fit(X_train, y_train)\n",
    "        ypre = knn.predict(X_test)\n",
    "        # print(ypre)\n",
    "        accuracy = accuracy_score(y_test, ypre)\n",
    "        print(k, accuracy)\n",
    "        r.append(accuracy)\n",
    "        stop_time = time.perf_counter()\n",
    "        print('solution time: {:.2f} ms'.format((stop_time - start_time) * 1000))\n",
    "    return r\n",
    "\n",
    "\n",
    "kv = [3, 5, 11, 15, 27, 43, 51, 57]\n",
    "kk = [24, 27, 29]\n",
    "# acc = [0.6644271070436243, 0.6671899282608355, 0.666326546630457]\n",
    "# acc = findBestK(kv)\n",
    "acc = 0.7423512236472379"
   ]
  },
  {
   "cell_type": "markdown",
   "id": "3d777766-07f5-465b-a1cc-cedccffb5ea5",
   "metadata": {},
   "source": [
    "create a dataframe to display accuracy results and find the best k val"
   ]
  },
  {
   "cell_type": "code",
   "execution_count": 18,
   "id": "ceca3ce9-0b95-4d42-87d8-3eaf1416ec2f",
   "metadata": {},
   "outputs": [
    {
     "name": "stdout",
     "output_type": "stream",
     "text": [
      "best k: 51 [3, 5, 11, 15, 27, 43, 51, 57]\n"
     ]
    }
   ],
   "source": [
    "# showacc = pd.DataFrame({'k': kv, 'accuracy': acc})\n",
    "\n",
    "# showacc.sort_values(by='accuracy', ascending=False)\n",
    "\n",
    "# bestk = showacc.sort_values(by='accuracy', ascending=False).iloc[0]\n",
    "# bestk = int(bestk.k)\n",
    "\n",
    "bestk = 51\n",
    "print('best k:', bestk, kv)"
   ]
  },
  {
   "cell_type": "code",
   "execution_count": null,
   "id": "634140b9-f9cf-496e-90ce-0b5424c10274",
   "metadata": {},
   "outputs": [],
   "source": []
  },
  {
   "cell_type": "code",
   "execution_count": 19,
   "id": "ea147e9e-a5fc-4c84-9746-77331a650f59",
   "metadata": {},
   "outputs": [
    {
     "name": "stdout",
     "output_type": "stream",
     "text": [
      "            id  age  height(cm)  weight(kg)  waist(cm)  eyesight(left)  \\\n",
      "0            0   55         165          60       81.0             0.5   \n",
      "1            1   70         165          65       89.0             0.6   \n",
      "2            2   20         170          75       81.0             0.4   \n",
      "3            3   35         180          95      105.0             1.5   \n",
      "4            4   30         165          60       80.5             1.5   \n",
      "...        ...  ...         ...         ...        ...             ...   \n",
      "159251  159251   40         155          45       69.0             1.5   \n",
      "159252  159252   50         155          75       82.0             1.0   \n",
      "159253  159253   40         160          50       66.0             1.5   \n",
      "159254  159254   50         165          75       92.0             1.2   \n",
      "159255  159255   40         145          45       76.4             1.0   \n",
      "\n",
      "        eyesight(right)  systolic  relaxation  fasting blood sugar  ...  AST  \\\n",
      "0                   0.6       135          87                   94  ...   22   \n",
      "1                   0.7       146          83                  147  ...   27   \n",
      "2                   0.5       118          75                   79  ...   27   \n",
      "3                   1.2       131          88                   91  ...   20   \n",
      "4                   1.0       121          76                   91  ...   19   \n",
      "...                 ...       ...         ...                  ...  ...  ...   \n",
      "159251              2.0       127          80                   64  ...   25   \n",
      "159252              1.0       120          80                   89  ...   21   \n",
      "159253              1.0       114          70                   84  ...   15   \n",
      "159254              1.0       121          90                  122  ...   22   \n",
      "159255              1.2       125          87                   83  ...   21   \n",
      "\n",
      "        ALT  Gtp  smoking  hearing(left)_1  hearing(left)_2  hearing(right)_1  \\\n",
      "0        25   27        1              1.0              0.0               1.0   \n",
      "1        23   37        0              0.0              1.0               0.0   \n",
      "2        31   53        1              1.0              0.0               1.0   \n",
      "3        27   30        0              1.0              0.0               1.0   \n",
      "4        13   17        1              1.0              0.0               1.0   \n",
      "...     ...  ...      ...              ...              ...               ...   \n",
      "159251   26   13        0              1.0              0.0               1.0   \n",
      "159252   20   18        0              1.0              0.0               1.0   \n",
      "159253    9   12        0              1.0              0.0               1.0   \n",
      "159254   17   37        1              1.0              0.0               1.0   \n",
      "159255   16   17        0              1.0              0.0               1.0   \n",
      "\n",
      "        hearing(right)_2  dental caries_0  dental caries_1  \n",
      "0                    0.0              1.0              0.0  \n",
      "1                    1.0              0.0              1.0  \n",
      "2                    0.0              1.0              0.0  \n",
      "3                    0.0              0.0              1.0  \n",
      "4                    0.0              1.0              0.0  \n",
      "...                  ...              ...              ...  \n",
      "159251               0.0              1.0              0.0  \n",
      "159252               0.0              1.0              0.0  \n",
      "159253               0.0              1.0              0.0  \n",
      "159254               0.0              1.0              0.0  \n",
      "159255               0.0              1.0              0.0  \n",
      "\n",
      "[159256 rows x 27 columns]\n"
     ]
    }
   ],
   "source": [
    "cats = ['hearing(left)', 'hearing(right)', 'dental caries']\n",
    "# Initialize OneHotEncoder\n",
    "encoder = OneHotEncoder(sparse_output=False)\n",
    "temp = pd.DataFrame(\n",
    "    encoder.fit_transform(df_train[cats]), columns=encoder.get_feature_names_out(cats)\n",
    ")\n",
    "# add the new colums to the original dataframe\n",
    "df_encoded = pd.concat([df_train, temp], axis=1)\n",
    "# Drop the old categories\n",
    "df_encoded = df_encoded.drop(cats, axis=1)\n",
    "print(df_encoded)"
   ]
  },
  {
   "cell_type": "markdown",
   "id": "93f33280-aff4-40e2-96e5-806b53fbf66c",
   "metadata": {},
   "source": [
    "Test accuracy with some features treated as categories."
   ]
  },
  {
   "cell_type": "code",
   "execution_count": 21,
   "id": "5b07a179-82af-4b82-9689-dfad41f9735b",
   "metadata": {},
   "outputs": [
    {
     "name": "stdout",
     "output_type": "stream",
     "text": [
      "['age', 'height(cm)', 'weight(kg)', 'waist(cm)', 'eyesight(left)', 'eyesight(right)', 'systolic', 'relaxation', 'fasting blood sugar', 'Cholesterol', 'triglyceride', 'HDL', 'LDL', 'hemoglobin', 'Urine protein', 'serum creatinine', 'AST', 'ALT', 'Gtp', 'hearing(left)_1', 'hearing(left)_2', 'hearing(right)_1', 'hearing(right)_2', 'dental caries_0', 'dental caries_1']\n",
      "\n",
      "updated accuracy, K= 51 0.7457302524174306\n",
      "accuracy improvement: 0.0033790287701926935\n",
      "Cross val accuracy 0.7465025318234985\n"
     ]
    }
   ],
   "source": [
    "c = list(df_encoded.columns)\n",
    "c.remove('smoking')\n",
    "c.remove('id')\n",
    "print(c)\n",
    "X = df_encoded[c]\n",
    "# print(X)\n",
    "y = df_encoded['smoking']\n",
    "# print(y)\n",
    "\n",
    "X_train, X_test, y_train, y_test = train_test_split(X, y, test_size=0.2, random_state=9)\n",
    "\n",
    "knn = KNeighborsClassifier(n_neighbors=bestk, weights='uniform')\n",
    "knn.fit(X_train, y_train)\n",
    "\n",
    "kypre = knn.predict(X_test)\n",
    "skncats = accuracy_score(y_test, kypre)\n",
    "\n",
    "print()\n",
    "print('updated accuracy, K=', bestk, skncats)\n",
    "\n",
    "print('accuracy improvement:', skncats - acc)  # [0])\n",
    "\n",
    "skn = cross_val_score(knn, X, y, cv=10, scoring='accuracy').mean()\n",
    "\n",
    "print('Cross val accuracy', skn)"
   ]
  },
  {
   "cell_type": "code",
   "execution_count": null,
   "id": "356160cc-32bc-4acb-87ff-76f948e8a779",
   "metadata": {},
   "outputs": [],
   "source": []
  },
  {
   "cell_type": "code",
   "execution_count": 23,
   "id": "0536a06b-e41d-4f53-91d5-4950f71aba61",
   "metadata": {},
   "outputs": [
    {
     "name": "stdout",
     "output_type": "stream",
     "text": [
      "[0.07843137 0.47058824 0.54901961 ... 0.76470588 0.78431373 0.82352941]\n",
      "0.8258032431007066\n"
     ]
    }
   ],
   "source": [
    "y_predict_prob = knn.predict_proba(X_test)\n",
    "# Estimated likelihood of smoking=1 for testing set\n",
    "print(y_predict_prob[:, 1])\n",
    "\n",
    "fpr, tpr, thresholds = metrics.roc_curve(y_test, y_predict_prob[:, 1], pos_label=1)\n",
    "AUC = metrics.auc(fpr, tpr)\n",
    "print(metrics.roc_auc_score(y_test, y_predict_prob[:, 1]))"
   ]
  },
  {
   "cell_type": "code",
   "execution_count": null,
   "id": "4a828021-2904-49c1-9af7-cf27ea5eae6d",
   "metadata": {},
   "outputs": [],
   "source": []
  },
  {
   "cell_type": "code",
   "execution_count": 24,
   "id": "de4982f8-05be-4e7b-b4fb-b1ffa787ce6b",
   "metadata": {},
   "outputs": [
    {
     "data": {
      "image/png": "[encoded data removed]",
      "text/plain": [
       "<Figure size 640x480 with 1 Axes>"
      ]
     },
     "metadata": {},
     "output_type": "display_data"
    }
   ],
   "source": [
    "%matplotlib inline\n",
    "\n",
    "plt.figure()\n",
    "\n",
    "# Roc Curve:\n",
    "plt.plot(fpr, tpr, color='red', lw=2, label=f'ROC Curve (area = {AUC:0.2f})', zorder=3)\n",
    "\n",
    "# Random Guess line:\n",
    "plt.plot([0, 1], [0, 1], color='blue', lw=1, linestyle='--')\n",
    "\n",
    "# Defining The Range of X-Axis and Y-Axis:\n",
    "plt.xlim([0, 1])\n",
    "plt.ylim([0, 1])\n",
    "\n",
    "# Labels, Title, Legend:\n",
    "plt.xlabel('False Positive Rate')\n",
    "plt.ylabel('True Positive Rate')\n",
    "plt.title('Receiver operating characteristic')\n",
    "plt.legend(loc='lower right')\n",
    "\n",
    "plt.show()"
   ]
  },
  {
   "cell_type": "code",
   "execution_count": null,
   "id": "09d99bba-bf40-48e2-ba65-28ecdb77ca30",
   "metadata": {},
   "outputs": [],
   "source": []
  }
 ],
 "metadata": {
  "kernelspec": {
   "display_name": "Python 3 (ipykernel)",
   "language": "python",
   "name": "python3"
  },
  "language_info": {
   "codemirror_mode": {
    "name": "ipython",
    "version": 3
   },
   "file_extension": ".py",
   "mimetype": "text/x-python",
   "name": "python",
   "nbconvert_exporter": "python",
   "pygments_lexer": "ipython3",
   "version": "3.12.4"
  }
 },
 "nbformat": 4,
 "nbformat_minor": 5
}
